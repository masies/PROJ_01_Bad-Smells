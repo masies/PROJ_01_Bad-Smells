{
 "cells": [
  {
   "cell_type": "code",
   "execution_count": 1,
   "metadata": {},
   "outputs": [
    {
     "name": "stderr",
     "output_type": "stream",
     "text": [
      "* Owlready2 * Warning: optimized Cython parser module 'owlready2_optimized' is not available, defaulting to slower Python implementation\n"
     ]
    }
   ],
   "source": [
    "import sys\n",
    "\n",
    "sys.path.append('/usr/local/lib/python3.8/site-packages')\n",
    "\n",
    "from os import path as Path\n",
    "import ast\n",
    "from owlready2 import *\n",
    "import javalang.tree"
   ]
  },
  {
   "cell_type": "code",
   "execution_count": 2,
   "metadata": {},
   "outputs": [],
   "source": [
    "chess_path              = './resources/android-chess/app/src/main/java/jwtc/chess/'\n",
    "treePy_path             = './resources/tree.py'\n",
    "populated_ontology_path = './computed/tree2.owl'\n",
    "ontology_path           = './computed/tree.owl'"
   ]
  },
  {
   "cell_type": "code",
   "execution_count": 3,
   "metadata": {},
   "outputs": [],
   "source": [
    "class Visitor(ast.NodeVisitor):\n",
    "\n",
    "    def __init__(self, ontology):\n",
    "        self.ontology = ontology\n",
    "\n",
    "    def generic_visit(self, node):\n",
    "        numberOfClasses = 0;\n",
    "        ast.NodeVisitor.generic_visit(self, node)\n",
    "        with self.ontology as onto:\n",
    "            if type(node) == ast.ClassDef:\n",
    "                for obj in node.bases:\n",
    "                    if obj.id == \"Node\":\n",
    "                        types.new_class(node.name, (Thing,))\n",
    "                    else:\n",
    "                        types.new_class(node.name, (onto[obj.id],))\n",
    "\n",
    "            elif type(node) == ast.Assign:\n",
    "                for el in node.value.elts:\n",
    "                    if el.s == \"body\" or el.s == \"parameters\":\n",
    "                        types.new_class(el.s, (ObjectProperty,))\n",
    "                    else:\n",
    "                        types.new_class(\n",
    "                            \"jname\" if el.s == \"name\" else el.s,\n",
    "                            (DataProperty,))\n"
   ]
  },
  {
   "cell_type": "code",
   "execution_count": 4,
   "metadata": {},
   "outputs": [],
   "source": [
    "def create_ontology(path):\n",
    "    with open(path, \"r\") as source:\n",
    "        tree = ast.parse(source.read())\n",
    "\n",
    "    ontology = get_ontology(\"http://Java_Ontology/JavaTree.owl\")\n",
    "\n",
    "    visitor = Visitor(ontology)\n",
    "    visitor.visit(tree)\n",
    "    if os.path.exists(ontology_path):\n",
    "        os.remove(ontology_path)\n",
    "    ontology.save(ontology_path, format=\"rdfxml\")\n",
    "    \n",
    "create_ontology(\"./resources/tree.py\")"
   ]
  },
  {
   "cell_type": "markdown",
   "metadata": {},
   "source": [
    "## UNIT TEST"
   ]
  },
  {
   "cell_type": "code",
   "execution_count": 5,
   "metadata": {},
   "outputs": [],
   "source": [
    "onto = get_ontology(ontology_path).load()\n",
    "cd = onto[\"ClassDeclaration\"]\n",
    "\n",
    "assert cd.name == \"ClassDeclaration\"\n",
    "assert len(cd.is_a) == 1\n",
    "assert cd.is_a[0].name == 'TypeDeclaration'"
   ]
  },
  {
   "cell_type": "code",
   "execution_count": 6,
   "metadata": {},
   "outputs": [],
   "source": [
    "onto = get_ontology(ontology_path).load()\n",
    "cd = onto[\"MethodDeclaration\"]\n",
    "\n",
    "assert cd.name == \"MethodDeclaration\"\n",
    "assert len(cd.is_a) == 2\n",
    "assert cd.is_a[0].name == 'Member'\n",
    "assert cd.is_a[1].name == 'Declaration'"
   ]
  },
  {
   "cell_type": "code",
   "execution_count": 7,
   "metadata": {},
   "outputs": [],
   "source": [
    "onto = get_ontology(ontology_path).load()\n",
    "cd = onto[\"FieldDeclaration\"]\n",
    "\n",
    "assert cd.name == \"FieldDeclaration\"\n",
    "assert len(cd.is_a) == 2\n",
    "assert cd.is_a[0].name == 'Member'\n",
    "assert cd.is_a[1].name == 'Declaration'"
   ]
  },
  {
   "cell_type": "code",
   "execution_count": 8,
   "metadata": {},
   "outputs": [],
   "source": [
    "onto = get_ontology(ontology_path).load()\n",
    "cd = onto[\"ConstructorDeclaration\"]\n",
    "\n",
    "assert cd.name == \"ConstructorDeclaration\"\n",
    "assert len(cd.is_a) == 2\n",
    "assert cd.is_a[0].name == 'Declaration'\n",
    "assert cd.is_a[1].name == 'Documented'"
   ]
  },
  {
   "cell_type": "code",
   "execution_count": 9,
   "metadata": {},
   "outputs": [],
   "source": [
    "onto = get_ontology(ontology_path).load()\n",
    "cd = onto[\"VariableDeclarator\"]\n",
    "\n",
    "assert cd.name == \"VariableDeclarator\"\n",
    "assert len(cd.is_a) == 1"
   ]
  },
  {
   "cell_type": "markdown",
   "metadata": {},
   "source": [
    "## STATS"
   ]
  },
  {
   "cell_type": "markdown",
   "metadata": {},
   "source": [
    "`Axiom`\t\t\t\t\t\t\t: \t4577\n",
    "\t\n",
    "`Logical axiom count`\t\t\t: \t3073\n",
    "\t\n",
    "`Declaration axioms count`\t\t: \t1504\n",
    "\t\n",
    "`Class count`\t\t\t\t\t: \t  78\n",
    "\t\n",
    "`Object property count`\t\t\t: \t   2\n",
    "\t\n",
    "`Data property count`\t\t\t: \t  65\n",
    "\t\n",
    "`Individual count`\t\t\t\t: \t1360\n",
    "\n",
    "`SubClassOf`\t\t\t\t\t: \t  83\n",
    "\n",
    "`ClassAssertion`\t\t\t\t: \t1360\n",
    "\t\n",
    "`ObjectPropertyAssertion`\t\t: \t1347\n",
    "\t\n",
    "`DataPropertyAssertion`\t\t\t: \t 283\n",
    "\n"
   ]
  },
  {
   "cell_type": "markdown",
   "metadata": {},
   "source": [
    "## STEP 2"
   ]
  },
  {
   "cell_type": "code",
   "execution_count": 10,
   "metadata": {},
   "outputs": [],
   "source": [
    "def append_fields(class_declaration, fields, ontology):\n",
    "    for field in fields:\n",
    "        o_fd = ontology['FieldDeclaration']()\n",
    "        o_fd.jname = [field.name]\n",
    "        class_declaration.body.append(o_fd)\n",
    "\n",
    "def append_method(class_declaration, method, ontology):\n",
    "    o_md = ontology['MethodDeclaration']()\n",
    "    o_md.jname = [method.name]\n",
    "    append_statements(o_md, method, ontology)\n",
    "    append_parameters(o_md, method, ontology)\n",
    "    class_declaration.body.append(o_md)\n",
    "    \n",
    "def append_constructor(class_declaration, method, ontology):\n",
    "    o_con = ontology['ConstructorDeclaration']()\n",
    "    o_con.jname = [method.name]\n",
    "    append_statements(o_con, method, ontology)\n",
    "    append_parameters(o_con, method, ontology)\n",
    "    class_declaration.body.append(o_con)\n",
    "\n",
    "def append_statements(md, method, ontology):\n",
    "    for _, statement in method.filter(javalang.tree.Statement):\n",
    "        if type(statement) != javalang.tree.Statement:\n",
    "            s_type = statement.__class__.__name__\n",
    "            s = ontology[s_type]()\n",
    "            md.body.append(s)\n",
    "\n",
    "def append_parameters(md, method, ontology):\n",
    "    for _, statement in method.parameters:\n",
    "        fp = ontology['FormalParameter']()\n",
    "        md.parameters.append(fp)"
   ]
  },
  {
   "cell_type": "code",
   "execution_count": 11,
   "metadata": {},
   "outputs": [],
   "source": [
    "def extract_class_declaration(source):\n",
    "    class_declarations = []\n",
    "\n",
    "    for file in os.listdir(source):\n",
    "        if file.endswith('.java'):\n",
    "            f_path = os.path.join(source, file)\n",
    "            with open(f_path) as j_file:\n",
    "                ast = javalang.parse.parse(j_file.read())\n",
    "                for _, node in ast.filter(javalang.tree.ClassDeclaration):\n",
    "                    class_declarations.append(node) \n",
    "    return class_declarations\n",
    "\n",
    "\n",
    "def addClasses(ontology, class_declarations):\n",
    "    for java_class in class_declarations:\n",
    "        ontology_cd = ontology['ClassDeclaration']()\n",
    "        ontology_cd.jname = [java_class.name]\n",
    "        [append_fields(ontology_cd, f.declarators, ontology) for f in java_class.body if type(f) == javalang.tree.FieldDeclaration]\n",
    "        [append_method(ontology_cd, m, ontology) for m in java_class.body if type(m) == javalang.tree.MethodDeclaration]\n",
    "        [append_method(ontology_cd, c, ontology) for c in java_class.body if type(c) == javalang.tree.ConstructorDeclaration]\n",
    "    \n",
    "                    \n",
    "def add_instances(ontology_path, source_path):\n",
    "    class_declarations = extract_class_declaration(source_path)\n",
    "    ontology = get_ontology(ontology_path).load()\n",
    "    with ontology:\n",
    "        addClasses(ontology, class_declarations)\n",
    "    if os.path.exists(populated_ontology_path):\n",
    "        os.remove(populated_ontology_path)\n",
    "    ontology.save(populated_ontology_path, format=\"rdfxml\")"
   ]
  },
  {
   "cell_type": "code",
   "execution_count": 12,
   "metadata": {},
   "outputs": [],
   "source": [
    "add_instances(ontology_path, chess_path)"
   ]
  },
  {
   "cell_type": "markdown",
   "metadata": {},
   "source": [
    "## UNIT TESTS"
   ]
  },
  {
   "cell_type": "code",
   "execution_count": 13,
   "metadata": {},
   "outputs": [],
   "source": [
    "onto = get_ontology(ontology_path).load()\n",
    "tree = javalang.parse.parse(\"class A { int x, y; }\")\n",
    "cds = []\n",
    "for _, node in tree.filter(javalang.tree.ClassDeclaration):\n",
    "    cds.append(node)   \n",
    "\n",
    "with onto:\n",
    "    addClasses(onto, cds)\n",
    "if os.path.exists(populated_ontology_path):\n",
    "    os.remove(populated_ontology_path)\n",
    "onto.save(populated_ontology_path, format=\"rdfxml\")\n",
    "\n",
    "a = onto['ClassDeclaration'].instances()[-1]\n",
    "\n",
    "assert a.body[0].is_a[0].name == 'FieldDeclaration'\n",
    "assert a.body[0].jname[0] == 'x'\n",
    "assert a.body[1].is_a[0].name == 'FieldDeclaration'\n",
    "assert a.body[1].jname[0] == 'y'\n",
    "assert a.jname[0] == 'A'"
   ]
  },
  {
   "cell_type": "code",
   "execution_count": 14,
   "metadata": {},
   "outputs": [],
   "source": [
    "onto = get_ontology(ontology_path).load()\n",
    "tree = javalang.parse.parse('class Main { int sum; Main() { this(5, 2); } Main(int arg1, int arg2) { this.sum = arg1 + arg2; } void display() { System.out.println(\"Sum is: \" + sum); } public static void main(String[] args) { Main obj = new Main(); obj.display(); } }')\n",
    "cds = []\n",
    "for _, node in tree.filter(javalang.tree.ClassDeclaration):\n",
    "    cds.append(node)   \n",
    "    \n",
    "with onto:\n",
    "    addClasses(onto, cds)\n",
    "if os.path.exists(populated_ontology_path):\n",
    "    os.remove(populated_ontology_path)\n",
    "onto.save(populated_ontology_path, format=\"rdfxml\")\n",
    "\n",
    "a = onto['ClassDeclaration'].instances()[-1]\n",
    "    \n",
    "assert a.jname[0] == 'Main'\n",
    "assert a.body[0].is_a[0].name == 'FieldDeclaration'\n",
    "assert a.body[0].jname[0] == 'sum'\n",
    "assert a.body[1].is_a[0].name == 'MethodDeclaration'\n",
    "assert a.body[1].jname[0] == 'display'\n",
    "assert a.body[2].is_a[0].name == 'MethodDeclaration'\n",
    "assert a.body[2].jname[0] == 'main'\n",
    "assert a.body[3].is_a[0].name == 'MethodDeclaration'\n",
    "assert a.body[3].jname[0] == 'Main'\n",
    "assert a.body[4].is_a[0].name == 'MethodDeclaration'\n",
    "assert a.body[4].jname[0] == 'Main'\n",
    "\n",
    "assert a.body[4].parameters[0].is_a[0].name == 'FormalParameter'\n",
    "assert a.body[4].parameters[1].is_a[0].name == 'FormalParameter'"
   ]
  },
  {
   "cell_type": "markdown",
   "metadata": {},
   "source": [
    "# STEP 3"
   ]
  },
  {
   "cell_type": "code",
   "execution_count": null,
   "metadata": {},
   "outputs": [],
   "source": []
  }
 ],
 "metadata": {
  "kernelspec": {
   "display_name": "Python 3",
   "language": "python",
   "name": "python3"
  },
  "language_info": {
   "codemirror_mode": {
    "name": "ipython",
    "version": 3
   },
   "file_extension": ".py",
   "mimetype": "text/x-python",
   "name": "python",
   "nbconvert_exporter": "python",
   "pygments_lexer": "ipython3",
   "version": "3.8.5"
  }
 },
 "nbformat": 4,
 "nbformat_minor": 4
}
