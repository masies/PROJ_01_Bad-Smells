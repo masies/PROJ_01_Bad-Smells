{
 "cells": [
  {
   "cell_type": "code",
   "execution_count": 1,
   "metadata": {},
   "outputs": [
    {
     "name": "stderr",
     "output_type": "stream",
     "text": [
      "* Owlready2 * Warning: optimized Cython parser module 'owlready2_optimized' is not available, defaulting to slower Python implementation\n"
     ]
    }
   ],
   "source": [
    "import sys\n",
    "\n",
    "sys.path.append('/usr/local/lib/python3.8/site-packages')\n",
    "\n",
    "from os import path as Path\n",
    "import ast\n",
    "from owlready2 import *\n",
    "import javalang.tree"
   ]
  },
  {
   "cell_type": "code",
   "execution_count": 2,
   "metadata": {},
   "outputs": [],
   "source": [
    "ontology_path = './computed/tree.owl'\n",
    "chess_path = './resources/android-chess/app/src/main/java/jwtc/chess/'\n",
    "treePy_path = './resources/tree.py'\n",
    "ontology_populated_path = './computed/tree2.owl'"
   ]
  },
  {
   "cell_type": "code",
   "execution_count": 3,
   "metadata": {},
   "outputs": [],
   "source": [
    "class Visitor(ast.NodeVisitor):\n",
    "\n",
    "    def __init__(self, ontology):\n",
    "        self.ontology = ontology\n",
    "\n",
    "    def generic_visit(self, node):\n",
    "        ast.NodeVisitor.generic_visit(self, node)\n",
    "        with self.ontology as onto:\n",
    "            if type(node) == ast.ClassDef:\n",
    "                for obj in node.bases:\n",
    "                    if obj.id == \"Node\":\n",
    "                        types.new_class(node.name, (Thing,))\n",
    "                    else:\n",
    "                        types.new_class(node.name, (onto[obj.id],))\n",
    "\n",
    "            elif type(node) == ast.Assign:\n",
    "                for el in node.value.elts:\n",
    "                    if el.s == \"body\" or el.s == \"parameters\":\n",
    "                        types.new_class(el.s, (ObjectProperty,))\n",
    "                    else:\n",
    "                        types.new_class(\n",
    "                            \"jname\" if el.s == \"name\" else el.s,\n",
    "                            (DataProperty,))\n"
   ]
  },
  {
   "cell_type": "code",
   "execution_count": 4,
   "metadata": {},
   "outputs": [
    {
     "name": "stdout",
     "output_type": "stream",
     "text": [
      "Ontology created ==> \"./computed/tree.owl\" \n"
     ]
    }
   ],
   "source": [
    "def create_ontology(path):\n",
    "    with open(path, \"r\") as source:\n",
    "        tree = ast.parse(source.read())\n",
    "\n",
    "    ontology = get_ontology(\"http://Java_Ontology/tree.owl\")\n",
    "\n",
    "    visitor = Visitor(ontology)\n",
    "    visitor.visit(tree)\n",
    "    \n",
    "    ontology.save(ontology_path, format=\"rdfxml\")\n",
    "\n",
    "    print('Ontology created ==> \"%s\" ' % ontology_path)\n",
    "    \n",
    "create_ontology(\"./resources/tree.py\")"
   ]
  },
  {
   "cell_type": "code",
   "execution_count": 5,
   "metadata": {},
   "outputs": [],
   "source": [
    "def populate_ontology(onto, source):\n",
    "    for file in os.listdir(source):\n",
    "        if file.endswith('.java'):\n",
    "            f_path = os.path.join(source, file)\n",
    "            with open(f_path) as j_file:\n",
    "                with onto:\n",
    "                    ast = javalang.parse.parse(j_file.read())\n",
    "                    for _, node in ast.filter(javalang.tree.ClassDeclaration):\n",
    "                        class_declaration = onto['ClassDeclaration']()\n",
    "                        class_declaration.jname = [node.name]\n",
    "                        for member in node.body:\n",
    "                            if type(member) == javalang.tree.FieldDeclaration:\n",
    "                                    append_fields(class_declaration, member, onto)\n",
    "                            elif type(member) == javalang.tree.MethodDeclaration or type(member) == javalang.tree.ConstructorDeclaration:\n",
    "                                    append_method(class_declaration, member, onto)\n",
    "    onto.save(ontology_populated_path, format=\"rdfxml\")\n",
    "    print('done')\n",
    "\n",
    "def append_fields(class_declaration, field, onto):\n",
    "    for fld in field.declarators:\n",
    "        fd = onto['FieldDeclaration']()\n",
    "        fd.jname = [fld.name]\n",
    "        class_declaration.body.append(fd)\n",
    "\n",
    "def append_method(class_declaration, method, onto):\n",
    "    md = onto[method.__class__.__name__]()\n",
    "    md.jname = [method.name]\n",
    "    append_statements(md, method, onto)\n",
    "    append_parameters(md, method, onto)\n",
    "    class_declaration.body.append(md)\n",
    "\n",
    "def append_statements(md, method, onto):\n",
    "    for _, statement in method.filter(javalang.tree.Statement):\n",
    "        if type(statement) != javalang.tree.Statement:\n",
    "            s_type = statement.__class__.__name__\n",
    "            s = onto[s_type]()\n",
    "            md.body.append(s)\n",
    "\n",
    "def append_parameters(md, method, onto):\n",
    "    for _, statement in method.parameters:\n",
    "        fp = onto['FormalParameter']()\n",
    "        md.parameters.append(fp)\n",
    "\n",
    "\n",
    "\n",
    "    "
   ]
  },
  {
   "cell_type": "code",
   "execution_count": 6,
   "metadata": {},
   "outputs": [
    {
     "name": "stdout",
     "output_type": "stream",
     "text": [
      "done\n"
     ]
    }
   ],
   "source": [
    "#  TODO :: delete ontology tree2 before recreating\n",
    "# os.remove(ontology_populated_path)\n",
    "\n",
    "\n",
    "onto = get_ontology(ontology_path).load()\n",
    "populate_ontology(onto, chess_path)"
   ]
  },
  {
   "cell_type": "code",
   "execution_count": null,
   "metadata": {},
   "outputs": [],
   "source": []
  },
  {
   "cell_type": "code",
   "execution_count": null,
   "metadata": {},
   "outputs": [],
   "source": []
  },
  {
   "cell_type": "code",
   "execution_count": null,
   "metadata": {},
   "outputs": [],
   "source": [
    "onto = get_ontology(ontology_path).load()\n",
    "cd = onto[\"ClassDeclaration\"]\n",
    "\n",
    "assert cd.name == \"ClassDeclaration\"\n",
    "assert len(cd.is_a) == 1\n",
    "assert cd.is_a[0].name == 'TypeDeclaration'"
   ]
  }
 ],
 "metadata": {
  "kernelspec": {
   "display_name": "Python 3",
   "language": "python",
   "name": "python3"
  },
  "language_info": {
   "codemirror_mode": {
    "name": "ipython",
    "version": 3
   },
   "file_extension": ".py",
   "mimetype": "text/x-python",
   "name": "python",
   "nbconvert_exporter": "python",
   "pygments_lexer": "ipython3",
   "version": "3.8.5"
  }
 },
 "nbformat": 4,
 "nbformat_minor": 4
}
