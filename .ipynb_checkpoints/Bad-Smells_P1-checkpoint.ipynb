{
 "cells": [
  {
   "cell_type": "code",
   "execution_count": 4,
   "metadata": {},
   "outputs": [
    {
     "name": "stderr",
     "output_type": "stream",
     "text": [
      "* Owlready2 * Warning: optimized Cython parser module 'owlready2_optimized' is not available, defaulting to slower Python implementation\n"
     ]
    }
   ],
   "source": [
    "import sys\n",
    "\n",
    "sys.path.append('/usr/local/lib/python3.8/site-packages')\n",
    "\n",
    "from os import path as Path\n",
    "import ast\n",
    "from owlready2 import *\n",
    "import javalang.tree"
   ]
  },
  {
   "cell_type": "code",
   "execution_count": 5,
   "metadata": {},
   "outputs": [],
   "source": [
    "chess_path              = './resources/android-chess/app/src/main/java/jwtc/chess/'\n",
    "treePy_path             = './resources/tree.py'\n",
    "populated_ontology_path = './computed/tree2.owl'\n",
    "ontology_path           = './computed/tree.owl'"
   ]
  },
  {
   "cell_type": "code",
   "execution_count": 6,
   "metadata": {},
   "outputs": [],
   "source": [
    "class Visitor(ast.NodeVisitor):\n",
    "\n",
    "    def __init__(self, ontology):\n",
    "        self.ontology = ontology\n",
    "\n",
    "    def generic_visit(self, node):\n",
    "        ast.NodeVisitor.generic_visit(self, node)\n",
    "        with self.ontology as onto:\n",
    "            if type(node) == ast.ClassDef:\n",
    "                for obj in node.bases:\n",
    "                    if obj.id == \"Node\":\n",
    "                        types.new_class(node.name, (Thing,))\n",
    "                    else:\n",
    "                        types.new_class(node.name, (onto[obj.id],))\n",
    "\n",
    "            elif type(node) == ast.Assign:\n",
    "                for el in node.value.elts:\n",
    "                    if el.s == \"body\" or el.s == \"parameters\":\n",
    "                        types.new_class(el.s, (ObjectProperty,))\n",
    "                    else:\n",
    "                        types.new_class(\n",
    "                            \"jname\" if el.s == \"name\" else el.s,\n",
    "                            (DataProperty,))\n"
   ]
  },
  {
   "cell_type": "code",
   "execution_count": 7,
   "metadata": {},
   "outputs": [],
   "source": [
    "def create_ontology(path):\n",
    "    with open(path, \"r\") as source:\n",
    "        tree = ast.parse(source.read())\n",
    "\n",
    "    ontology = get_ontology(\"http://Java_Ontology/tree.owl\")\n",
    "\n",
    "    visitor = Visitor(ontology)\n",
    "    visitor.visit(tree)\n",
    "    \n",
    "    ontology.save(ontology_path, format=\"rdfxml\")\n",
    "    \n",
    "create_ontology(\"./resources/tree.py\")"
   ]
  },
  {
   "cell_type": "code",
   "execution_count": 8,
   "metadata": {},
   "outputs": [],
   "source": [
    "def append_fields(class_declaration, fields, ontology):\n",
    "    for field in fields:\n",
    "        ofd = ontology['FieldDeclaration']()\n",
    "        ofd.jname = [field.name]\n",
    "        class_declaration.body.append(ofd)\n",
    "\n",
    "def append_method(class_declaration, method, onto):\n",
    "    md = onto['MethodDeclaration']()\n",
    "    md.jname = [method.name]\n",
    "    append_statements(md, method, onto)\n",
    "    append_parameters(md, method, onto)\n",
    "    class_declaration.body.append(md)\n",
    "    \n",
    "def append_constructor(class_declaration, method, onto):\n",
    "    md = onto['ConstructorDeclaration']()\n",
    "    md.jname = [method.name]\n",
    "    append_statements(md, method, onto)\n",
    "    append_parameters(md, method, onto)\n",
    "    class_declaration.body.append(md)\n",
    "\n",
    "def append_statements(md, method, onto):\n",
    "    for _, statement in method.filter(javalang.tree.Statement):\n",
    "        if type(statement) != javalang.tree.Statement:\n",
    "            s_type = statement.__class__.__name__\n",
    "            s = onto[s_type]()\n",
    "            md.body.append(s)\n",
    "\n",
    "def append_parameters(md, method, onto):\n",
    "    for _, statement in method.parameters:\n",
    "        fp = onto['FormalParameter']()\n",
    "        md.parameters.append(fp)"
   ]
  },
  {
   "cell_type": "code",
   "execution_count": 9,
   "metadata": {},
   "outputs": [],
   "source": [
    "def extract_class_declaration(source):\n",
    "    class_declarations = []\n",
    "\n",
    "    for file in os.listdir(source):\n",
    "        if file.endswith('.java'):\n",
    "            f_path = os.path.join(source, file)\n",
    "            with open(f_path) as j_file:\n",
    "                ast = javalang.parse.parse(j_file.read())\n",
    "                for _, node in ast.filter(javalang.tree.ClassDeclaration):\n",
    "                    class_declarations.append(node) \n",
    "    return class_declarations\n",
    "\n",
    "\n",
    "def addClasses(ontology, class_declarations):\n",
    "    for java_class in class_declarations:\n",
    "        ontology_cd = ontology['ClassDeclaration']()\n",
    "        ontology_cd.jname = [java_class.name]\n",
    "        [append_fields(ontology_cd, f.declarators, ontology) for f in java_class.body if type(f) == javalang.tree.FieldDeclaration]\n",
    "        [append_method(ontology_cd, m, ontology) for m in java_class.body if type(m) == javalang.tree.MethodDeclaration]\n",
    "        [append_method(ontology_cd, c, ontology) for c in java_class.body if type(c) == javalang.tree.ConstructorDeclaration]\n",
    "    \n",
    "                    \n",
    "def add_instances(ontology_path, source_path):\n",
    "    class_declarations = extract_class_declaration(source_path)\n",
    "    ontology = get_ontology(ontology_path).load()\n",
    "    with ontology:\n",
    "        addClasses(ontology, class_declarations)\n",
    "    ontology.save(populated_ontology_path, format=\"rdfxml\")\n",
    "    \n",
    "    \n"
   ]
  },
  {
   "cell_type": "code",
   "execution_count": 10,
   "metadata": {},
   "outputs": [],
   "source": [
    "add_instances(ontology_path, chess_path)"
   ]
  },
  {
   "cell_type": "code",
   "execution_count": null,
   "metadata": {},
   "outputs": [],
   "source": []
  },
  {
   "cell_type": "code",
   "execution_count": null,
   "metadata": {},
   "outputs": [],
   "source": []
  },
  {
   "cell_type": "code",
   "execution_count": null,
   "metadata": {},
   "outputs": [],
   "source": [
    "onto = get_ontology(ontology_path).load()\n",
    "cd = onto[\"ClassDeclaration\"]\n",
    "\n",
    "assert cd.name == \"ClassDeclaration\"\n",
    "assert len(cd.is_a) == 1\n",
    "assert cd.is_a[0].name == 'TypeDeclaration'"
   ]
  },
  {
   "cell_type": "code",
   "execution_count": null,
   "metadata": {},
   "outputs": [],
   "source": []
  }
 ],
 "metadata": {
  "kernelspec": {
   "display_name": "Python 3",
   "language": "python",
   "name": "python3"
  },
  "language_info": {
   "codemirror_mode": {
    "name": "ipython",
    "version": 3
   },
   "file_extension": ".py",
   "mimetype": "text/x-python",
   "name": "python",
   "nbconvert_exporter": "python",
   "pygments_lexer": "ipython3",
   "version": "3.8.5"
  }
 },
 "nbformat": 4,
 "nbformat_minor": 4
}
