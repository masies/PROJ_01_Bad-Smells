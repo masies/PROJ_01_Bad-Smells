{
 "cells": [
  {
   "cell_type": "markdown",
   "metadata": {},
   "source": [
    "# STEP 1 - creation of the java ontology"
   ]
  },
  {
   "cell_type": "code",
   "execution_count": 1,
   "metadata": {},
   "outputs": [
    {
     "name": "stderr",
     "output_type": "stream",
     "text": [
      "* Owlready2 * Warning: optimized Cython parser module 'owlready2_optimized' is not available, defaulting to slower Python implementation\n"
     ]
    }
   ],
   "source": [
    "import sys\n",
    "\n",
    "sys.path.append('/usr/local/lib/python3.8/site-packages')\n",
    "\n",
    "from os import path as Path\n",
    "import ast\n",
    "from owlready2 import *\n",
    "import javalang.tree\n",
    "import rdflib\n",
    "import rdflib.plugins.sparql as sq\n",
    "\n",
    "# relative path of the subject code folder\n",
    "chess_path              = './resources/android-chess/app/src/main/java/jwtc/chess/'\n",
    "# relative path of the java tree structure\n",
    "treePy_path             = './resources/tree.py'\n",
    "# relative path of our populated ontology\n",
    "populated_ontology_path = './computed/tree2.owl'\n",
    "# relative path of our empty ontology\n",
    "ontology_path           = './computed/tree.owl'\n",
    "# relative path for queries\n",
    "queries_path           = './queries/'"
   ]
  },
  {
   "cell_type": "code",
   "execution_count": 2,
   "metadata": {},
   "outputs": [],
   "source": [
    "class Visitor(ast.NodeVisitor):\n",
    "\n",
    "    def __init__(self, ontology):\n",
    "        self.ontology = ontology\n",
    "\n",
    "    def generic_visit(self, node):\n",
    "        ast.NodeVisitor.generic_visit(self, node)\n",
    "        with self.ontology as onto:\n",
    "            if type(node) == ast.ClassDef:\n",
    "                for obj in node.bases:\n",
    "                    if obj.id == \"Node\":\n",
    "                        types.new_class(node.name, (Thing,))\n",
    "                    else:\n",
    "                        types.new_class(node.name, (onto[obj.id],))\n",
    "\n",
    "            elif type(node) == ast.Assign:\n",
    "                for el in node.value.elts:\n",
    "                    if el.s == \"body\" or el.s == \"parameters\":\n",
    "                        types.new_class(el.s, (ObjectProperty,))\n",
    "                    else:\n",
    "                        types.new_class(\n",
    "                            \"jname\" if el.s == \"name\" else el.s,\n",
    "                            (DataProperty,))\n"
   ]
  },
  {
   "cell_type": "code",
   "execution_count": 3,
   "metadata": {},
   "outputs": [],
   "source": [
    "def create_ontology(path, target_folder, name):\n",
    "    with open(path, \"r\") as source:\n",
    "        tree = ast.parse(source.read())\n",
    "\n",
    "    ontology = get_ontology(\"http://Java_Ontology/\" + name + \".owl\")\n",
    "\n",
    "    visitor = Visitor(ontology)\n",
    "    visitor.visit(tree)\n",
    "    if os.path.exists(target_folder):\n",
    "        os.remove(target_folder)\n",
    "    ontology.save(target_folder, format=\"rdfxml\")\n",
    "    \n",
    "create_ontology(treePy_path, ontology_path, \"JavaTree\")"
   ]
  },
  {
   "cell_type": "markdown",
   "metadata": {},
   "source": [
    "## STATS"
   ]
  },
  {
   "cell_type": "markdown",
   "metadata": {},
   "source": [
    "`Axiom`\t\t\t\t\t\t\t: \t4577\n",
    "\t\n",
    "`Logical axiom count`\t\t\t: \t3073\n",
    "\t\n",
    "`Declaration axioms count`\t\t: \t1504\n",
    "\t\n",
    "`Class count`\t\t\t\t\t: \t  78\n",
    "\t\n",
    "`Object property count`\t\t\t: \t   2\n",
    "\t\n",
    "`Data property count`\t\t\t: \t  65\n",
    "\t\n",
    "`Individual count`\t\t\t\t: \t1360\n",
    "\n",
    "`SubClassOf`\t\t\t\t\t: \t  83\n",
    "\n",
    "`ClassAssertion`\t\t\t\t: \t1360\n",
    "\t\n",
    "`ObjectPropertyAssertion`\t\t: \t1347\n",
    "\t\n",
    "`DataPropertyAssertion`\t\t\t: \t 283\n",
    "\n"
   ]
  },
  {
   "cell_type": "markdown",
   "metadata": {},
   "source": [
    "# STEP 2-3 - populating the ontology"
   ]
  },
  {
   "cell_type": "code",
   "execution_count": 4,
   "metadata": {},
   "outputs": [],
   "source": [
    "def append_fields(class_declaration, fields, ontology):\n",
    "    for field in fields:\n",
    "        o_fd = ontology['FieldDeclaration']()\n",
    "        o_fd.jname = [field.name]\n",
    "        class_declaration.body.append(o_fd)\n",
    "\n",
    "def append_method(class_declaration, method, ontology):\n",
    "    o_md = ontology['MethodDeclaration']()\n",
    "    o_md.jname = [method.name]\n",
    "    append_statements(o_md, method, ontology)\n",
    "    append_parameters(o_md, method, ontology)\n",
    "    class_declaration.body.append(o_md)\n",
    "    \n",
    "def append_constructor(class_declaration, method, ontology):\n",
    "    o_con = ontology['ConstructorDeclaration']()\n",
    "    o_con.jname = [method.name]\n",
    "    append_statements(o_con, method, ontology)\n",
    "    append_parameters(o_con, method, ontology)\n",
    "    class_declaration.body.append(o_con)\n",
    "\n",
    "def append_statements(md, method, ontology):\n",
    "    for _, statement in method.filter(javalang.tree.Statement):\n",
    "        if type(statement) != javalang.tree.Statement:\n",
    "            s_type = statement.__class__.__name__\n",
    "            s = ontology[s_type]()\n",
    "            md.body.append(s)\n",
    "\n",
    "def append_parameters(md, method, ontology):\n",
    "    for _, statement in method.parameters:\n",
    "        fp = ontology['FormalParameter']()\n",
    "        md.parameters.append(fp)"
   ]
  },
  {
   "cell_type": "code",
   "execution_count": 5,
   "metadata": {},
   "outputs": [],
   "source": [
    "def extract_class_declaration(source):\n",
    "    class_declarations = []\n",
    "    for file in os.listdir(source):\n",
    "        if file.endswith('.java'):\n",
    "            f_path = os.path.join(source, file)\n",
    "            with open(f_path) as j_file:\n",
    "                ast = javalang.parse.parse(j_file.read())\n",
    "                for _, node in ast.filter(javalang.tree.ClassDeclaration):\n",
    "                    class_declarations.append(node) \n",
    "    return class_declarations\n",
    "\n",
    "def addClasses(ontology, class_declarations):\n",
    "    for java_class in class_declarations:\n",
    "        ontology_cd = ontology['ClassDeclaration']()\n",
    "        ontology_cd.jname = [java_class.name]\n",
    "        [append_fields(ontology_cd, f.declarators, ontology) for f in java_class.body if type(f) == javalang.tree.FieldDeclaration]\n",
    "        [append_method(ontology_cd, m, ontology) for m in java_class.body if type(m) == javalang.tree.MethodDeclaration]\n",
    "        [append_constructor(ontology_cd, c, ontology) for c in java_class.body if type(c) == javalang.tree.ConstructorDeclaration]\n",
    "        \n",
    "def add_instances(ontology_path, source_path):\n",
    "    class_declarations = extract_class_declaration(source_path)\n",
    "    ontology = get_ontology(ontology_path).load()\n",
    "    with ontology:\n",
    "        addClasses(ontology, class_declarations)\n",
    "    if os.path.exists(populated_ontology_path):\n",
    "        os.remove(populated_ontology_path)\n",
    "    ontology.save(populated_ontology_path, format=\"rdfxml\")\n",
    "    \n"
   ]
  },
  {
   "cell_type": "code",
   "execution_count": 6,
   "metadata": {},
   "outputs": [],
   "source": [
    "add_instances(ontology_path, chess_path)"
   ]
  },
  {
   "cell_type": "markdown",
   "metadata": {},
   "source": [
    "## Stats\n",
    "\n",
    "\n",
    "ClassDeclaration\t\t:\t11 \n",
    "\n",
    "MethodDeclaration\t\t:\t152 \n",
    "\n",
    "FieldDeclaration\t\t:\t105 \n",
    "\n",
    "ConstructorDeclaratio\t:\t6 \n",
    "\n",
    "FormalParameter\t\t\t:\t165 \n",
    "\n",
    "AssertStatement\t\t\t:\t0 \n",
    "\n",
    "BlockStatement\t\t\t:\t143 \n",
    "\n",
    "BreakStatement\t\t\t:\t23 \n",
    "\n",
    "CatchClause\t\t\t\t:\t8 \n",
    "\n",
    "ContinueStatement\t\t:\t4 \n",
    "\n",
    "DoStatement\t\t\t\t:\t2 \n",
    "\n",
    "ForStatement\t\t\t:\t6 \n",
    "\n",
    "IfStatement\t\t\t\t:\t125 \n",
    "\n",
    "ReturnStatement\t\t\t:\t106 \n",
    "\n",
    "StatementExpression\t\t:\t446 \n",
    "\n",
    "SwitchStatement\t\t\t:\t8 \n",
    "\n",
    "SynchronizedStatemen\t:\t1 \n",
    "\n",
    "ThrowStatement\t\t\t:\t15 \n",
    "\n",
    "TryStatement\t\t\t:\t8 \n",
    "\n",
    "WhileStatement\t\t\t:\t10"
   ]
  },
  {
   "cell_type": "markdown",
   "metadata": {},
   "source": [
    "# BAD SMELLS\n"
   ]
  },
  {
   "cell_type": "code",
   "execution_count": 7,
   "metadata": {},
   "outputs": [],
   "source": [
    "def log(header, rows, logFunc):\n",
    "    out = open(queries_path + \"/\" + header + \".txt\", \"w\")\n",
    "    for row in rows:\n",
    "        out.write(logFunc(row))\n",
    "    out.close()\n",
    "    \n",
    "if not os.path.exists(queries_path):\n",
    "        os.makedirs(queries_path)\n",
    "        \n",
    "graph = default_world.as_rdflib_graph()"
   ]
  },
  {
   "cell_type": "code",
   "execution_count": 8,
   "metadata": {},
   "outputs": [],
   "source": [
    "def longMethods(onto_name):\n",
    "    return sq.prepareQuery(\n",
    " \"\"\"SELECT ?className ?methodName ?statements (COUNT(*)AS ?tot) WHERE {\n",
    "                ?class a tree:ClassDeclaration .\n",
    "                ?class tree:jname ?className .\n",
    "                ?class tree:body ?method .\n",
    "                ?method a tree:MethodDeclaration .\n",
    "                ?method tree:jname ?methodName .\n",
    "                ?method tree:body ?statement .\n",
    "                ?statement a/rdfs:subClassOf* tree:Statement .\n",
    "            } GROUP BY ?method\n",
    "            HAVING (COUNT(?statement) >= 20)\n",
    "        \"\"\",\n",
    " initNs = { \"tree\": \"http://Java_Ontology/\" + onto_name + \".owl#\" })\n",
    "\n",
    "def longMethodsLog(row):\n",
    "    return \"CLASS: \" + row.className + \"\\t METHOD: \" + row.methodName + \"\\t STATEMENTS COUNT: \" + row.tot + \"\\n\""
   ]
  },
  {
   "cell_type": "code",
   "execution_count": 9,
   "metadata": {},
   "outputs": [],
   "source": [
    "def longConstructors(onto_name):\n",
    "    return sq.prepareQuery(\n",
    "        \"\"\"SELECT ?className ?constructorName ?statements (COUNT(*)AS ?tot) WHERE {\n",
    "                ?class a tree:ClassDeclaration .\n",
    "                ?class tree:jname ?className .\n",
    "                ?class tree:body ?constructor .\n",
    "                ?constructor a tree:ConstructorDeclaration .\n",
    "                ?constructor tree:jname ?constructorName .\n",
    "                ?constructor tree:body ?statement .\n",
    "                ?statement a/rdfs:subClassOf* tree:Statement .\n",
    "            } GROUP BY ?constructor\n",
    "            HAVING (COUNT(?statement) >= 20)\n",
    "        \"\"\",\n",
    " initNs = { \"tree\": \"http://Java_Ontology/\" + onto_name + \".owl#\" })\n",
    "\n",
    "def longConstructorsLog(row):\n",
    "    return \"CLASS: \" + row.className + \"\\t CONSTRUCTOR: \" + row.methodName + \"\\t STATEMENTS COUNT: \" + row.tot + \"\\n\""
   ]
  },
  {
   "cell_type": "code",
   "execution_count": 10,
   "metadata": {},
   "outputs": [],
   "source": [
    "def largeClasses(onto_name):\n",
    "    return sq.prepareQuery(\n",
    " \"\"\"SELECT ?className ?methods (COUNT(*)AS ?tot) WHERE {\n",
    "                ?class a tree:ClassDeclaration .\n",
    "                ?class tree:jname ?className .\n",
    "                ?class tree:body ?method .\n",
    "                ?method a tree:MethodDeclaration .\n",
    "                ?method tree:jname ?methodName .\n",
    "            } GROUP BY ?className\n",
    "            HAVING (COUNT(?method) >= 10)\n",
    "        \"\"\",\n",
    " initNs = { \"tree\": \"http://Java_Ontology/\" + onto_name + \".owl#\" })\n",
    "\n",
    "def largeClassesLog(row):\n",
    "    return \"CLASS: \" + row.className + \"\\t METHODS COUNT: \" + row.tot + \"\\n\" "
   ]
  },
  {
   "cell_type": "code",
   "execution_count": 11,
   "metadata": {},
   "outputs": [],
   "source": [
    "def methodWithSwitch(onto_name):\n",
    "    return sq.prepareQuery(\n",
    " \"\"\"SELECT ?className ?methodName (COUNT(*)AS ?tot) WHERE {\n",
    "                ?class a tree:ClassDeclaration .\n",
    "                ?class tree:jname ?className .\n",
    "                ?class tree:body ?method .\n",
    "                ?method a tree:MethodDeclaration .\n",
    "                ?method tree:jname ?methodName .\n",
    "                ?method tree:body ?statement .\n",
    "                ?statement a tree:SwitchStatement .\n",
    "            } GROUP BY ?method\n",
    "            HAVING (COUNT(?method) >= 1)\n",
    "        \"\"\",\n",
    " initNs = { \"tree\": \"http://Java_Ontology/\" + onto_name + \".owl#\" })\n",
    "\n",
    "def methodWithSwitchLog(row):\n",
    "    return \"CLASS: \" + row.className + \"\\t METHOD: \" + row.methodName + \"\\t SWITCH COUNT: \" + row.tot + \"\\n\""
   ]
  },
  {
   "cell_type": "code",
   "execution_count": 12,
   "metadata": {},
   "outputs": [],
   "source": [
    "def constructorWithSwitch(onto_name):\n",
    "    return sq.prepareQuery(\n",
    " \"\"\"SELECT ?className ?constructorName (COUNT(*)AS ?tot) WHERE {\n",
    "                ?class a tree:ClassDeclaration .\n",
    "                ?class tree:jname ?className .\n",
    "                ?class tree:body ?constructor .\n",
    "                ?constructor a tree:ConstructorDeclaration .\n",
    "                ?constructor tree:jname ?constructorName .\n",
    "                ?constructor tree:body ?statement .\n",
    "                ?statement a tree:SwitchStatement .\n",
    "            } GROUP BY ?constructor\n",
    "            HAVING (COUNT(?constructor) >= 1)\n",
    "        \"\"\",\n",
    " initNs = { \"tree\": \"http://Java_Ontology/\" + onto_name + \".owl#\" })\n",
    "\n",
    "def constructorWithSwitchLog(row):\n",
    "    return \"CLASS: \" + row.className + \"\\t CONSTRUCTOR: \" + row.methodName + \"\\t SWITCH COUNT: \" + row.tot + \"\\n\""
   ]
  },
  {
   "cell_type": "code",
   "execution_count": 13,
   "metadata": {},
   "outputs": [],
   "source": [
    "def methodWithLongParameterList(onto_name):\n",
    "    return sq.prepareQuery(\n",
    "        \"\"\"SELECT ?className ?methodName ?parameter (COUNT(*)AS ?tot) WHERE {\n",
    "                ?class a tree:ClassDeclaration .\n",
    "                ?class tree:jname ?className .\n",
    "                ?class tree:body ?method .\n",
    "                ?method a tree:MethodDeclaration .\n",
    "                ?method tree:jname ?methodName .\n",
    "                ?method tree:parameters ?parameter .\n",
    "                ?parameter a tree:FormalParameter .\n",
    "            } GROUP BY ?method\n",
    "            HAVING (COUNT(?parameter) >= 5)\n",
    "        \"\"\",\n",
    " initNs = { \"tree\": \"http://Java_Ontology/\" + onto_name + \".owl#\" })\n",
    "\n",
    "def MethodWithLongParameterListLog(row):\n",
    "    return \"CLASS: \" + row.className + \"\\t METHOD: \" + row.methodName + \"\\t PARAMETERS COUNT: \" + row.tot + \"\\n\""
   ]
  },
  {
   "cell_type": "code",
   "execution_count": 14,
   "metadata": {},
   "outputs": [],
   "source": [
    "def contructorWithLongParameterList(onto_name):\n",
    "    return sq.prepareQuery(\n",
    " \"\"\"SELECT ?className ?constructorName ?parameter (COUNT(*)AS ?tot) WHERE {\n",
    "                ?class a tree:ClassDeclaration .\n",
    "                ?class tree:jname ?className .\n",
    "                ?class tree:body ?constructor .\n",
    "                ?constructor a tree:ConstructorDeclaration .\n",
    "                ?constructor tree:jname ?constructorName .\n",
    "                ?constructor tree:parameters ?parameter .\n",
    "                ?parameter a tree:FormalParameter .\n",
    "            } GROUP BY ?constructor\n",
    "            HAVING (COUNT(?parameter) >= 5)\n",
    "        \"\"\",\n",
    " initNs = { \"tree\": \"http://Java_Ontology/\" + onto_name + \".owl#\" })\n",
    "\n",
    "def contructorWithLongParameterListLog(row):\n",
    "    return \"CLASS: \" + row.className + \"\\t CONSTRUCTOR: \" + row.constructorName + \"\\t PARAMETERS COUNT: \" + row.tot + \"\\n\""
   ]
  },
  {
   "cell_type": "code",
   "execution_count": 15,
   "metadata": {},
   "outputs": [],
   "source": [
    "def dataClass(onto_name):\n",
    "    return sq.prepareQuery(\n",
    " \"\"\"SELECT ?className (COUNT(*)AS ?tot) WHERE {\n",
    "                ?class a tree:ClassDeclaration .\n",
    "                ?class tree:jname ?className .\n",
    "                ?class tree:body ?method .\n",
    "                ?method a tree:MethodDeclaration .\n",
    "                ?method tree:jname ?methodName .\n",
    "                FILTER (regex(?methodName, \"set.*\") || regex(?methodName, \"get.*\"))\n",
    "            } GROUP BY ?className\n",
    "        \"\"\",\n",
    " initNs = { \"tree\": \"http://Java_Ontology/\" + onto_name + \".owl#\" })\n",
    "\n",
    "def retriveAllMethods(onto_name):\n",
    "    return sq.prepareQuery(\n",
    "    \"\"\"SELECT ?className (COUNT(*) AS ?tot) WHERE {\n",
    "                ?class a tree:ClassDeclaration .\n",
    "                ?class tree:jname ?className .\n",
    "                ?class tree:body ?method .\n",
    "                ?method a tree:MethodDeclaration .\n",
    "                ?method tree:jname ?methodName .\n",
    "            } GROUP BY ?className\n",
    "        \"\"\",\n",
    " initNs = { \"tree\": \"http://Java_Ontology/JavaTree.owl#\" })"
   ]
  },
  {
   "cell_type": "code",
   "execution_count": null,
   "metadata": {},
   "outputs": [],
   "source": [
    "res = graph.query(longMethods(\"JavaTree\"))\n",
    "log(\"LongMethods\", res, longMethodsLog)\n",
    "\n",
    "res = graph.query(longConstructors(\"JavaTree\"))\n",
    "log(\"LongConstructors\", res, longConstructorsLog)\n",
    "    \n",
    "res = graph.query(largeClasses(\"JavaTree\"))\n",
    "log(\"LargeClasses\", res, largeClassesLog)\n",
    "\n",
    "res = graph.query(contructorWithLongParameterList(\"JavaTree\"))\n",
    "log(\"ConstructorWithLongParameterList\", res, contructorWithLongParameterListLog)\n",
    "\n",
    "res = graph.query(methodWithLongParameterList(\"JavaTree\"))\n",
    "log(\"MethodWithLongParameterList\", res, MethodWithLongParameterListLog)\n",
    "\n",
    "res = graph.query(constructorWithSwitch(\"JavaTree\"))\n",
    "log(\"ConstructorWithSwitch\", res, constructorWithSwitchLog)\n",
    "\n",
    "res = graph.query(methodWithSwitch(\"JavaTree\"))\n",
    "log(\"MethodsWithSwitch\", res, methodWithSwitchLog)\n",
    "\n",
    "resGS = graph.query(dataClass(\"JavaTree\"))\n",
    "resAll = graph.query(retriveAllMethods(\"JavaTree\"))\n",
    "\n",
    "out = open(queries_path + \"/DataClasses.txt\", \"w\")\n",
    "for rowGS in resGS:\n",
    "    for rowA in resAll:\n",
    "        if rowGS.className == rowA.className:\n",
    "            if rowGS.tot == rowA.tot:\n",
    "                out.write(\"CLASS: \" + rowGS.className + \"\\t GETTERS/SETTERS: \" + rowGS.tot + \"\\n\")\n",
    "out.close()"
   ]
  },
  {
   "cell_type": "markdown",
   "metadata": {},
   "source": [
    "## UNIT TEST 1"
   ]
  },
  {
   "cell_type": "markdown",
   "metadata": {},
   "source": [
    "The purpose of tests in this section is to understand if in our ontology we correctly encoded some java instances, in particular ClassDeclarations, MethodDeclarations, FieldDeclarations, ConstructorDeclarations and VariableDeclarators\n",
    "\n",
    "In order to test them, we just get the ontology we saved and we query it for each particular field, asserting that its name and its superclass(es) are encoded correctly\n"
   ]
  },
  {
   "cell_type": "code",
   "execution_count": 24,
   "metadata": {},
   "outputs": [],
   "source": [
    "test_ontology_path           = './test/computed/tree_test.owl'\n",
    "test_populated_ontology_path = './test/computed/tree_test2.owl'\n",
    "\n",
    "create_ontology(treePy_path, test_ontology_path, \"JavaTestTree\")"
   ]
  },
  {
   "cell_type": "code",
   "execution_count": 25,
   "metadata": {},
   "outputs": [],
   "source": [
    "onto = get_ontology(test_ontology_path).load()\n",
    "cd = onto[\"ClassDeclaration\"]\n",
    "\n",
    "assert cd.name == \"ClassDeclaration\"\n",
    "assert len(cd.is_a) == 1\n",
    "assert cd.is_a[0].name == 'TypeDeclaration'"
   ]
  },
  {
   "cell_type": "code",
   "execution_count": 26,
   "metadata": {},
   "outputs": [],
   "source": [
    "onto = get_ontology(test_ontology_path).load()\n",
    "cd = onto[\"MethodDeclaration\"]\n",
    "\n",
    "assert cd.name == \"MethodDeclaration\"\n",
    "assert len(cd.is_a) == 2\n",
    "assert cd.is_a[0].name == 'Member'\n",
    "assert cd.is_a[1].name == 'Declaration'"
   ]
  },
  {
   "cell_type": "code",
   "execution_count": 27,
   "metadata": {},
   "outputs": [],
   "source": [
    "onto = get_ontology(test_ontology_path).load()\n",
    "cd = onto[\"FieldDeclaration\"]\n",
    "\n",
    "assert cd.name == \"FieldDeclaration\"\n",
    "assert len(cd.is_a) == 2\n",
    "assert cd.is_a[0].name == 'Member'\n",
    "assert cd.is_a[1].name == 'Declaration'"
   ]
  },
  {
   "cell_type": "code",
   "execution_count": 28,
   "metadata": {},
   "outputs": [],
   "source": [
    "onto = get_ontology(test_ontology_path).load()\n",
    "cd = onto[\"ConstructorDeclaration\"]\n",
    "\n",
    "assert cd.name == \"ConstructorDeclaration\"\n",
    "assert len(cd.is_a) == 2\n",
    "assert cd.is_a[0].name == 'Declaration'\n",
    "assert cd.is_a[1].name == 'Documented'"
   ]
  },
  {
   "cell_type": "code",
   "execution_count": 29,
   "metadata": {},
   "outputs": [],
   "source": [
    "onto = get_ontology(test_ontology_path).load()\n",
    "cd = onto[\"VariableDeclarator\"]\n",
    "\n",
    "assert cd.name == \"VariableDeclarator\"\n",
    "assert len(cd.is_a) == 1"
   ]
  },
  {
   "cell_type": "code",
   "execution_count": 30,
   "metadata": {},
   "outputs": [],
   "source": [
    "onto = get_ontology(test_ontology_path).load()\n",
    "cd = onto[\"VariableDeclarator\"]\n",
    "\n",
    "assert cd.name == \"VariableDeclarator\"\n",
    "assert len(cd.is_a) == 1"
   ]
  },
  {
   "cell_type": "code",
   "execution_count": 31,
   "metadata": {},
   "outputs": [],
   "source": [
    "onto = get_ontology(test_ontology_path).load()\n",
    "cd = onto[\"Annotation\"]\n",
    "\n",
    "assert cd.name == \"Annotation\"\n",
    "assert len(cd.is_a) == 1"
   ]
  },
  {
   "cell_type": "code",
   "execution_count": 32,
   "metadata": {},
   "outputs": [],
   "source": [
    "onto = get_ontology(test_ontology_path).load()\n",
    "cd = onto[\"ArrayInitializer\"]\n",
    "\n",
    "assert cd.name == \"ArrayInitializer\"\n",
    "assert len(cd.is_a) == 1"
   ]
  },
  {
   "cell_type": "code",
   "execution_count": 33,
   "metadata": {},
   "outputs": [],
   "source": [
    "onto = get_ontology(test_ontology_path).load()\n",
    "cd = onto[\"CompilationUnit\"]\n",
    "\n",
    "assert cd.name == \"CompilationUnit\"\n",
    "assert len(cd.is_a) == 1"
   ]
  },
  {
   "cell_type": "code",
   "execution_count": 34,
   "metadata": {},
   "outputs": [],
   "source": [
    "onto = get_ontology(test_ontology_path).load()\n",
    "cd = onto[\"ElementArrayValue\"]\n",
    "\n",
    "assert cd.name == \"ElementArrayValue\"\n",
    "assert len(cd.is_a) == 1"
   ]
  },
  {
   "cell_type": "code",
   "execution_count": 35,
   "metadata": {},
   "outputs": [],
   "source": [
    "onto = get_ontology(test_ontology_path).load()\n",
    "cd = onto[\"ElementValuePair\"]\n",
    "\n",
    "assert cd.name == \"ElementValuePair\"\n",
    "assert len(cd.is_a) == 1"
   ]
  },
  {
   "cell_type": "code",
   "execution_count": 36,
   "metadata": {},
   "outputs": [],
   "source": [
    "onto = get_ontology(test_ontology_path).load()\n",
    "cd = onto[\"EnhancedForControl\"]\n",
    "\n",
    "assert cd.name == \"EnhancedForControl\"\n",
    "assert len(cd.is_a) == 1"
   ]
  },
  {
   "cell_type": "code",
   "execution_count": 37,
   "metadata": {},
   "outputs": [],
   "source": [
    "onto = get_ontology(test_ontology_path).load()\n",
    "cd = onto[\"EnumBody\"]\n",
    "\n",
    "assert cd.name == \"EnumBody\"\n",
    "assert len(cd.is_a) == 1"
   ]
  },
  {
   "cell_type": "code",
   "execution_count": 38,
   "metadata": {},
   "outputs": [],
   "source": [
    "onto = get_ontology(test_ontology_path).load()\n",
    "cd = onto[\"ForControl\"]\n",
    "\n",
    "assert cd.name == \"ForControl\"\n",
    "assert len(cd.is_a) == 1"
   ]
  },
  {
   "cell_type": "code",
   "execution_count": 39,
   "metadata": {},
   "outputs": [],
   "source": [
    "onto = get_ontology(test_ontology_path).load()\n",
    "cd = onto[\"Expression\"]\n",
    "\n",
    "assert cd.name == \"Expression\"\n",
    "assert len(cd.is_a) == 1"
   ]
  },
  {
   "cell_type": "code",
   "execution_count": 40,
   "metadata": {},
   "outputs": [],
   "source": [
    "onto = get_ontology(test_ontology_path).load()\n",
    "cd = onto[\"Import\"]\n",
    "\n",
    "assert cd.name == \"Import\"\n",
    "assert len(cd.is_a) == 1"
   ]
  },
  {
   "cell_type": "code",
   "execution_count": 41,
   "metadata": {},
   "outputs": [],
   "source": [
    "onto = get_ontology(test_ontology_path).load()\n",
    "cd = onto[\"InferredFormalParameter\"]\n",
    "\n",
    "assert cd.name == \"InferredFormalParameter\"\n",
    "assert len(cd.is_a) == 1"
   ]
  },
  {
   "cell_type": "code",
   "execution_count": 42,
   "metadata": {},
   "outputs": [],
   "source": [
    "onto = get_ontology(test_ontology_path).load()\n",
    "cd = onto[\"Statement\"]\n",
    "\n",
    "assert cd.name == \"Statement\"\n",
    "assert len(cd.is_a) == 1"
   ]
  },
  {
   "cell_type": "code",
   "execution_count": 43,
   "metadata": {},
   "outputs": [],
   "source": [
    "onto = get_ontology(test_ontology_path).load()\n",
    "cd = onto[\"SwitchStatementCase\"]\n",
    "\n",
    "assert cd.name == \"SwitchStatementCase\"\n",
    "assert len(cd.is_a) == 1"
   ]
  },
  {
   "cell_type": "code",
   "execution_count": 44,
   "metadata": {},
   "outputs": [],
   "source": [
    "onto = get_ontology(test_ontology_path).load()\n",
    "cd = onto[\"Type\"]\n",
    "\n",
    "assert cd.name == \"Type\"\n",
    "assert len(cd.is_a) == 1"
   ]
  },
  {
   "cell_type": "code",
   "execution_count": 45,
   "metadata": {},
   "outputs": [],
   "source": [
    "onto = get_ontology(test_ontology_path).load()\n",
    "cd = onto[\"TypeArgument\"]\n",
    "\n",
    "assert cd.name == \"TypeArgument\"\n",
    "assert len(cd.is_a) == 1"
   ]
  },
  {
   "cell_type": "code",
   "execution_count": 46,
   "metadata": {},
   "outputs": [],
   "source": [
    "onto = get_ontology(test_ontology_path).load()\n",
    "cd = onto[\"TypeParameter\"]\n",
    "\n",
    "assert cd.name == \"TypeParameter\"\n",
    "assert len(cd.is_a) == 1"
   ]
  },
  {
   "cell_type": "code",
   "execution_count": 47,
   "metadata": {},
   "outputs": [],
   "source": [
    "onto = get_ontology(test_ontology_path).load()\n",
    "cd = onto[\"VariableDeclarator\"]\n",
    "\n",
    "assert cd.name == \"VariableDeclarator\"\n",
    "assert len(cd.is_a) == 1"
   ]
  },
  {
   "cell_type": "code",
   "execution_count": 48,
   "metadata": {},
   "outputs": [],
   "source": [
    "onto = get_ontology(test_ontology_path).load()\n",
    "cd = onto[\"EnumConstantDeclaration\"]\n",
    "\n",
    "assert cd.name == \"EnumConstantDeclaration\"\n",
    "assert len(cd.is_a) == 2\n",
    "assert cd.is_a[0].name == 'Declaration'"
   ]
  },
  {
   "cell_type": "code",
   "execution_count": 49,
   "metadata": {},
   "outputs": [],
   "source": [
    "onto = get_ontology(test_ontology_path).load()\n",
    "cd = onto[\"PackageDeclaration\"]\n",
    "\n",
    "assert cd.name == \"PackageDeclaration\"\n",
    "assert len(cd.is_a) == 2\n",
    "assert cd.is_a[0].name == 'Declaration'"
   ]
  },
  {
   "cell_type": "markdown",
   "metadata": {},
   "source": [
    "## UNIT TESTS 2"
   ]
  },
  {
   "cell_type": "markdown",
   "metadata": {},
   "source": [
    "The purpose of tests in this section is to understand if our functions to parse a java class and add its instances in our ontology are correct.\n",
    "\n",
    "to do this we first load the java ontology we created, then we parse a custom class and we add it to the ontology using our functions, at that point we chack that every element of the class is stored correctly in the ontology\n"
   ]
  },
  {
   "cell_type": "code",
   "execution_count": 22,
   "metadata": {},
   "outputs": [],
   "source": [
    "# here we parse the java class \"class A { int x, y; }\" and we check that after the routine we have two \n",
    "# field declarations, x and y belonging to class A\n",
    "\n",
    "# get the ontology\n",
    "onto = get_ontology(test_ontology_path).load()\n",
    "\n",
    "# generating ast for test class\n",
    "tree = javalang.parse.parse(\"class A { int x, y; }\")\n",
    "\n",
    "# storing each node declaration in an array\n",
    "cds = []\n",
    "for _, node in tree.filter(javalang.tree.ClassDeclaration):\n",
    "    cds.append(node)   \n",
    "\n",
    "# for each node in the array we add it to the ontology\n",
    "with onto:\n",
    "    addClasses(onto, cds)\n",
    "\n",
    "# we save the populated ontology\n",
    "onto.save(test_populated_ontology_path, format=\"rdfxml\")\n",
    "\n",
    "# we get the last class declaration, our test java class\n",
    "a = onto['ClassDeclaration'].instances()[-1]\n",
    "\n",
    "# we assert fields are stored correctly\n",
    "assert a.body[0].is_a[0].name == 'FieldDeclaration'\n",
    "assert a.body[0].jname[0] == 'x'\n",
    "assert a.body[1].is_a[0].name == 'FieldDeclaration'\n",
    "assert a.body[1].jname[0] == 'y'\n",
    "assert a.jname[0] == 'A'"
   ]
  },
  {
   "cell_type": "markdown",
   "metadata": {},
   "source": [
    "the process for this second test is exacly the same of the first one, but we just testi it with a richer class\n",
    "\n",
    "<code>class Main { \n",
    "    int sum; \n",
    "    Main(){ \n",
    "        this(5, 2); \n",
    "    } \n",
    "    Main(int arg1, int arg2){ \n",
    "        this.sum = arg1 + arg2; \n",
    "    } \n",
    "    void display() { \n",
    "        System.out.println(\"Sum is: \" + sum); \n",
    "    } \n",
    "    public static void main(String[] args){ \n",
    "        Main obj = new Main(); \n",
    "        obj.display(); \n",
    "    }\n",
    "}</code>\n",
    "\n",
    "\n",
    "we have multiple constructors and more fields and variables\n"
   ]
  },
  {
   "cell_type": "code",
   "execution_count": 23,
   "metadata": {},
   "outputs": [],
   "source": [
    "onto = get_ontology(test_ontology_path).load()\n",
    "tree = javalang.parse.parse('class Main { int sum; Main() { this(5, 2); } Main(int arg1, int arg2) { this.sum = arg1 + arg2; } void display() { System.out.println(\"Sum is: \" + sum); } public static void main(String[] args) { Main obj = new Main(); obj.display(); } }')\n",
    "cds = []\n",
    "for _, node in tree.filter(javalang.tree.ClassDeclaration):\n",
    "    cds.append(node)   \n",
    "    \n",
    "with onto:\n",
    "    addClasses(onto, cds)\n",
    "\n",
    "onto.save(test_populated_ontology_path, format=\"rdfxml\")\n",
    "\n",
    "a = onto['ClassDeclaration'].instances()[-1]\n",
    "    \n",
    "assert a.jname[0] == 'Main'\n",
    "assert a.body[0].is_a[0].name == 'FieldDeclaration'\n",
    "assert a.body[0].jname[0] == 'sum'\n",
    "assert a.body[1].is_a[0].name == 'MethodDeclaration'\n",
    "assert a.body[1].jname[0] == 'display'\n",
    "assert a.body[2].is_a[0].name == 'MethodDeclaration'\n",
    "assert a.body[2].jname[0] == 'main'\n",
    "assert a.body[3].is_a[0].name == 'ConstructorDeclaration'\n",
    "assert a.body[3].jname[0] == 'Main'\n",
    "assert a.body[4].is_a[0].name == 'ConstructorDeclaration'\n",
    "assert a.body[4].jname[0] == 'Main'\n",
    "\n",
    "assert a.body[4].parameters[0].is_a[0].name == 'FormalParameter'\n",
    "assert a.body[4].parameters[1].is_a[0].name == 'FormalParameter'"
   ]
  },
  {
   "cell_type": "markdown",
   "metadata": {},
   "source": [
    "## UNIT TESTS 3"
   ]
  },
  {
   "cell_type": "markdown",
   "metadata": {},
   "source": [
    "Even in this case we have the same process to test our functions, but here we specifically check the presence of return statements, something we did not checked in previous tests"
   ]
  },
  {
   "cell_type": "code",
   "execution_count": 24,
   "metadata": {},
   "outputs": [],
   "source": [
    "onto = get_ontology(test_ontology_path).load()\n",
    "tree = javalang.parse.parse('class A { int f() { return 0; } }')\n",
    "cds = []\n",
    "for _, node in tree.filter(javalang.tree.ClassDeclaration):\n",
    "    cds.append(node)   \n",
    "    \n",
    "with onto:\n",
    "    addClasses(onto, cds)\n",
    "\n",
    "onto.save(test_populated_ontology_path, format=\"rdfxml\")\n",
    "\n",
    "a = onto['ClassDeclaration'].instances()[-1]\n",
    "assert a.body[0].body[0].is_a[0].name == 'ReturnStatement'"
   ]
  },
  {
   "cell_type": "markdown",
   "metadata": {},
   "source": [
    "## UNIT TESTS 4"
   ]
  },
  {
   "cell_type": "markdown",
   "metadata": {},
   "source": [
    "Here we want to test the correctness of our queries, so what we do is similar in the structure of tests in section 2 and 3, but then at the end we just run our quesry in the populated ontology and check that we retrive the correct results, according to the specific classes we wrote"
   ]
  },
  {
   "cell_type": "markdown",
   "metadata": {},
   "source": [
    "<code>\n",
    "class A { \n",
    "    int f(int x) { \n",
    "        x++;\n",
    "        x++;\n",
    "        x++;\n",
    "        x++;\n",
    "        x++;\n",
    "        x++;\n",
    "        x++;\n",
    "        x++;\n",
    "        x++;\n",
    "        x++;\n",
    "        x++;\n",
    "        x++;\n",
    "        x++;\n",
    "        x++;\n",
    "        x++;\n",
    "        x++;\n",
    "        x++;\n",
    "        x++;\n",
    "        x++;\n",
    "        x++;\n",
    "        x++; \n",
    "    } \n",
    "}\n",
    "</code>\n",
    "\n",
    "a class with a long method, more than 19 statements"
   ]
  },
  {
   "cell_type": "code",
   "execution_count": 25,
   "metadata": {},
   "outputs": [],
   "source": [
    "# We load our ontology\n",
    "onto = get_ontology(test_ontology_path).load()\n",
    "\n",
    "# We parse a custom java function\n",
    "tree = javalang.parse.parse(\"class A { int f(int x) { x++;x++;x++;x++;x++;x++;x++;x++;x++;x++;x++;x++;x++;x++;x++;x++;x++;x++;x++;x++;x++; } }\")\n",
    "\n",
    "# storing each node declaration in an array\n",
    "cds = []\n",
    "for _, node in tree.filter(javalang.tree.ClassDeclaration):\n",
    "    cds.append(node)   \n",
    "\n",
    "# for each node in the array we add it to the ontology\n",
    "with onto:\n",
    "    addClasses(onto, cds)\n",
    "\n",
    "# we save back our populated ontology\n",
    "onto.save(test_populated_ontology_path, format=\"rdfxml\")\n",
    "\n",
    "# generate a graph\n",
    "g = rdflib.Graph()\n",
    "# load our ontology in the graph\n",
    "g.load(test_populated_ontology_path)    \n",
    "# run our specific query\n",
    "res = g.query(longMethods(\"JavaTestTree\"))\n",
    "# check that we get the correct result\n",
    "assert len(res) == 1"
   ]
  },
  {
   "cell_type": "markdown",
   "metadata": {},
   "source": [
    "<code>\n",
    "class MyClaas { \n",
    "    public MyClass(int x) { \n",
    "        x++;\n",
    "        x++;\n",
    "        x++;\n",
    "        x++;\n",
    "        x++;\n",
    "        x++;\n",
    "        x++;\n",
    "        x++;\n",
    "        x++;\n",
    "        x++;\n",
    "        x++;\n",
    "        x++;\n",
    "        x++;\n",
    "        x++;\n",
    "        x++;\n",
    "        x++;\n",
    "        x++;\n",
    "        x++;\n",
    "        x++;\n",
    "        x++;\n",
    "        x++; \n",
    "    } \n",
    "}\n",
    "</code>\n",
    "\n",
    "a class with a long constructor, more than 19 statements"
   ]
  },
  {
   "cell_type": "code",
   "execution_count": 26,
   "metadata": {},
   "outputs": [],
   "source": [
    "onto = get_ontology(test_ontology_path).load()\n",
    "tree = javalang.parse.parse(\"class MyClaas { public MyClass(int x) { x++;x++;x++;x++;x++;x++;x++;x++;x++;x++;x++;x++;x++;x++;x++;x++;x++;x++;x++;x++;x++; } }\")\n",
    "cds = []\n",
    "for _, node in tree.filter(javalang.tree.ClassDeclaration):\n",
    "    cds.append(node)   \n",
    "    \n",
    "with onto:\n",
    "    addClasses(onto, cds)\n",
    "\n",
    "onto.save(test_populated_ontology_path, format=\"rdfxml\")\n",
    "\n",
    "g = rdflib.Graph()\n",
    "g.load(test_populated_ontology_path)\n",
    "res = g.query(longMethods(\"JavaTestTree\"))\n",
    "assert len(res) == 1"
   ]
  },
  {
   "cell_type": "markdown",
   "metadata": {},
   "source": [
    "<code>\n",
    "class MyClaas { \n",
    "    public A(int x) { \n",
    "        x++;\n",
    "        x++;\n",
    "        x++;\n",
    "        x++;\n",
    "        x++;\n",
    "        x++;\n",
    "        x++;\n",
    "        x++;\n",
    "        x++;\n",
    "        x++;\n",
    "        x++;\n",
    "        x++;\n",
    "        x++;\n",
    "        x++;\n",
    "        x++;\n",
    "        x++;\n",
    "        x++;\n",
    "        x++;\n",
    "        x++;\n",
    "        x++;\n",
    "        x++; \n",
    "    } \n",
    "    public void AA(){} \n",
    "    public void B(){} \n",
    "    public void C(){} \n",
    "    public void D(){} \n",
    "    public void E(){} \n",
    "    public void F(){} \n",
    "    public void G(){} \n",
    "    public void H(){} \n",
    "    public void I(){} \n",
    "    public void J(){} \n",
    "    public void L(){} \n",
    "    public void K(){} \n",
    "    public void M(){}\n",
    "}\n",
    "</code>\n",
    "\n",
    "A class with a lot of methods, more than 10"
   ]
  },
  {
   "cell_type": "code",
   "execution_count": 27,
   "metadata": {},
   "outputs": [],
   "source": [
    "onto = get_ontology(test_ontology_path).load()\n",
    "tree = javalang.parse.parse(\"class MyClaas { public A(int x) { x++;x++;x++;x++;x++;x++;x++;x++;x++;x++;x++;x++;x++;x++;x++;x++;x++;x++;x++;x++;x++; } public void AA(){} public void B(){} public void C(){} public void D(){} public void E(){} public void F(){} public void G(){} public void H(){} public void I(){} public void J(){} public void L(){} public void K(){} public void M(){} }\")\n",
    "cds = []\n",
    "for _, node in tree.filter(javalang.tree.ClassDeclaration):\n",
    "    cds.append(node)   \n",
    "    \n",
    "with onto:\n",
    "    addClasses(onto, cds)\n",
    "\n",
    "onto.save(test_populated_ontology_path, format=\"rdfxml\")\n",
    "\n",
    "g = rdflib.Graph()\n",
    "g.load(test_populated_ontology_path)\n",
    "res = g.query(largeClasses(\"JavaTestTree\"))\n",
    "assert len(res) == 1"
   ]
  },
  {
   "cell_type": "markdown",
   "metadata": {},
   "source": [
    "<code>\n",
    "    class MyClaas { \n",
    "        public void A(int x){ \n",
    "            int day = 4; \n",
    "            switch (day) {\n",
    "                case 1:\n",
    "                    System.out.println(day); \n",
    "                    break; \n",
    "                case 2: \n",
    "                    System.out.println(day);  \n",
    "                    break;\n",
    "             } \n",
    "        }\n",
    "    }\n",
    "</code>\n",
    "\n",
    "a class with a method containing at least one switch"
   ]
  },
  {
   "cell_type": "code",
   "execution_count": 28,
   "metadata": {},
   "outputs": [],
   "source": [
    "onto = get_ontology(test_ontology_path).load()\n",
    "tree = javalang.parse.parse(\"class MyClaas { public void A(int x){ int day = 4; switch (day) {case 1: System.out.println(day); break; case 2: System.out.println(day);  break;} }}\")\n",
    "cds = []\n",
    "for _, node in tree.filter(javalang.tree.ClassDeclaration):\n",
    "    cds.append(node)   \n",
    "    \n",
    "with onto:\n",
    "    addClasses(onto, cds)\n",
    "\n",
    "onto.save(test_populated_ontology_path, format=\"rdfxml\")\n",
    "\n",
    "g = rdflib.Graph()\n",
    "g.load(test_populated_ontology_path)\n",
    "res = g.query(methodWithSwitch(\"JavaTestTree\"))\n",
    "assert len(res) == 1"
   ]
  },
  {
   "cell_type": "markdown",
   "metadata": {},
   "source": [
    "<code>\n",
    "    class MyClaas { \n",
    "        public MyClaas(int x){ \n",
    "            int day = 4; \n",
    "            switch (day) {\n",
    "                case 1:\n",
    "                    System.out.println(day); \n",
    "                    break; \n",
    "                case 2: \n",
    "                    System.out.println(day);  \n",
    "                    break;\n",
    "             } \n",
    "        }\n",
    "    }\n",
    "</code>\n",
    "\n",
    "a class with a contructor containing at least one switch"
   ]
  },
  {
   "cell_type": "code",
   "execution_count": 29,
   "metadata": {},
   "outputs": [],
   "source": [
    "onto = get_ontology(test_ontology_path).load()\n",
    "tree = javalang.parse.parse(\"class MyClaas { public MyClaas(int x){ int day = 4; switch (day) {case 1: System.out.println(day); break; case 2: System.out.println(day);  break;} }}\")\n",
    "cds = []\n",
    "for _, node in tree.filter(javalang.tree.ClassDeclaration):\n",
    "    cds.append(node)   \n",
    "    \n",
    "with onto:\n",
    "    addClasses(onto, cds)\n",
    "\n",
    "onto.save(test_populated_ontology_path, format=\"rdfxml\")\n",
    "\n",
    "g = rdflib.Graph()\n",
    "g.load(test_populated_ontology_path)\n",
    "res = g.query(constructorWithSwitch(\"JavaTestTree\"))\n",
    "assert len(res) == 1"
   ]
  },
  {
   "cell_type": "markdown",
   "metadata": {},
   "source": [
    "<code>\n",
    "class MyClaas { \n",
    "    public void A(int xw,int xww,int xwww,int xe,int xee,int xeeeee,int xf){ \n",
    "        int day = 4; \n",
    "        int day1 = 4; \n",
    "        int d2ay = 4; \n",
    "        int day3 = 4;  \n",
    "        int d22ay = 4; \n",
    "        int d2234ay = 4; \n",
    "        switch (day) {\n",
    "            case 1: \n",
    "                System.out.println(day); \n",
    "                break; \n",
    "            case 2: \n",
    "                System.out.println(day);  \n",
    "                break;\n",
    "        } \n",
    "    }\n",
    "}\n",
    "</code>\n",
    "    \n",
    "A class with a method containg a lot of parameters, more than 4"
   ]
  },
  {
   "cell_type": "code",
   "execution_count": 30,
   "metadata": {},
   "outputs": [],
   "source": [
    "onto = get_ontology(test_ontology_path).load()\n",
    "tree = javalang.parse.parse(\"class MyClaas { public void A(int xw,int xww,int xwww,int xe,int xee,int xeeeee,int xf){ int day = 4; int day1 = 4; int d2ay = 4; int day3 = 4;  int d22ay = 4; int d2234ay = 4; switch (day) {case 1: System.out.println(day); break; case 2: System.out.println(day);  break;} }}\")\n",
    "cds = []\n",
    "for _, node in tree.filter(javalang.tree.ClassDeclaration):\n",
    "    cds.append(node)   \n",
    "    \n",
    "with onto:\n",
    "    addClasses(onto, cds)\n",
    "\n",
    "onto.save(test_populated_ontology_path, format=\"rdfxml\")\n",
    "\n",
    "g = rdflib.Graph()\n",
    "g.load(test_populated_ontology_path)\n",
    "res = g.query(methodWithLongParameterList(\"JavaTestTree\"))\n",
    "assert len(res) == 1"
   ]
  },
  {
   "cell_type": "markdown",
   "metadata": {},
   "source": [
    "<code>\n",
    "class MyClaas { \n",
    "    public MyClaas(int xw,int xww,int xwww,int xe,int xee,int xeeeee,int xf){ \n",
    "        int day = 4; \n",
    "        int day1 = 4; \n",
    "        int d2ay = 4; \n",
    "        int day3 = 4;  \n",
    "        int d22ay = 4; \n",
    "        int d2234ay = 4; \n",
    "        switch (day) {\n",
    "            case 1: \n",
    "                System.out.println(day); \n",
    "                break; \n",
    "            case 2: \n",
    "                System.out.println(day);  \n",
    "                break;\n",
    "        } \n",
    "    }\n",
    "}\n",
    "</code>\n",
    "    \n",
    "A class with a contructor containg a lot of parameters, more than 4"
   ]
  },
  {
   "cell_type": "code",
   "execution_count": 31,
   "metadata": {},
   "outputs": [],
   "source": [
    "onto = get_ontology(test_ontology_path).load()\n",
    "tree = javalang.parse.parse(\"class MyClaas { public MyClaas(int xw,int xww,int xwww,int xe,int xee,int xeeeee,int xf){ int day = 4; int day1 = 4; int d2ay = 4; int day3 = 4;  int d22ay = 4; int d2234ay = 4; switch (day) {case 1: System.out.println(day); break; case 2: System.out.println(day);  break;} }}\")\n",
    "cds = []\n",
    "for _, node in tree.filter(javalang.tree.ClassDeclaration):\n",
    "    cds.append(node)   \n",
    "    \n",
    "with onto:\n",
    "    addClasses(onto, cds)\n",
    "\n",
    "onto.save(test_populated_ontology_path, format=\"rdfxml\")\n",
    "\n",
    "g = rdflib.Graph()\n",
    "g.load(test_populated_ontology_path)\n",
    "res = g.query(contructorWithLongParameterList(\"JavaTestTree\"))\n",
    "assert len(res) == 1"
   ]
  },
  {
   "cell_type": "markdown",
   "metadata": {},
   "source": [
    "<code>\n",
    "    class MyClaas { \n",
    "        public void setInt(int xw,int xww,int xwww,int xe,int xee,int xeeeee,int xf){ \n",
    "            int day = 4; \n",
    "            int day1 = 4;\n",
    "            int d2ay = 4; \n",
    "            int day3 = 4; \n",
    "            int d22ay = 4; \n",
    "            int d2234ay = 4; \n",
    "            switch (day) {\n",
    "                case 1: \n",
    "                    System.out.println(day); \n",
    "                    break; \n",
    "                case 2: \n",
    "                    System.out.println(day);  \n",
    "                    break;\n",
    "                } \n",
    "            }\n",
    "    }\n",
    "</code>\n",
    "\n",
    "A data class, classes with only getters and setters"
   ]
  },
  {
   "cell_type": "code",
   "execution_count": 32,
   "metadata": {},
   "outputs": [],
   "source": [
    "onto = get_ontology(test_ontology_path).load()\n",
    "tree = javalang.parse.parse(\"class MyClaas { public void setInt(int xw,int xww,int xwww,int xe,int xee,int xeeeee,int xf){ int day = 4; int day1 = 4; int d2ay = 4; int day3 = 4;  int d22ay = 4; int d2234ay = 4; switch (day) {case 1: System.out.println(day); break; case 2: System.out.println(day);  break;} }}\")\n",
    "cds = []\n",
    "for _, node in tree.filter(javalang.tree.ClassDeclaration):\n",
    "    cds.append(node)   \n",
    "    \n",
    "with onto:\n",
    "    addClasses(onto, cds)\n",
    "\n",
    "onto.save(test_populated_ontology_path, format=\"rdfxml\")\n",
    "\n",
    "g = rdflib.Graph()\n",
    "g.load(test_populated_ontology_path)\n",
    "res = g.query(dataClass(\"JavaTestTree\"))\n",
    "assert len(res) == 1"
   ]
  },
  {
   "cell_type": "code",
   "execution_count": null,
   "metadata": {},
   "outputs": [],
   "source": []
  }
 ],
 "metadata": {
  "kernelspec": {
   "display_name": "Python 3",
   "language": "python",
   "name": "python3"
  },
  "language_info": {
   "codemirror_mode": {
    "name": "ipython",
    "version": 3
   },
   "file_extension": ".py",
   "mimetype": "text/x-python",
   "name": "python",
   "nbconvert_exporter": "python",
   "pygments_lexer": "ipython3",
   "version": "3.8.5"
  }
 },
 "nbformat": 4,
 "nbformat_minor": 4
}
